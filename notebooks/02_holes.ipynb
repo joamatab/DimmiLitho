{
 "cells": [
  {
   "cell_type": "markdown",
   "metadata": {},
   "source": [
    "# Litho tutorial\n",
    "\n",
    "Lets demonstrate some basic functionality of the litho by rounding a just a ring GDS with a center hole.\n",
    "\n",
    "Make sure your gridsize is in the order of the feature that you want to\n",
    "calculate.\n",
    "\n",
    "- If you choose a gridsize too small it will take long time\n",
    "- If your gridsize is too big for your features the litho simulated will not make any sense\n"
   ]
  },
  {
   "cell_type": "code",
   "execution_count": null,
   "metadata": {
    "attributes": {
     "classes": [],
     "id": "",
     "n": "1"
    }
   },
   "outputs": [],
   "source": [
    "import pathlib\n",
    "import pp\n",
    "import litho"
   ]
  },
  {
   "cell_type": "code",
   "execution_count": null,
   "metadata": {
    "attributes": {
     "classes": [],
     "id": "",
     "n": "2"
    }
   },
   "outputs": [],
   "source": [
    "layer = 1\n",
    "gridsize = 10\n",
    "\n",
    "c  = pp.c.ring(radius=5, width=0.5, layer=layer)\n",
    "gdspath = pp.write_gds(c, 'ring.gds')\n",
    "gdspathout = pathlib.Path(gdspath).with_suffix('.litho.gds')\n",
    "c2 = litho.smooth(gdspath, gdspathout, gridsize=gridsize)\n",
    "gdspathout = litho.carve_holes(gdspathout)"
   ]
  },
  {
   "cell_type": "code",
   "execution_count": null,
   "metadata": {},
   "outputs": [],
   "source": [
    "pp.qp(c) # original"
   ]
  },
  {
   "cell_type": "code",
   "execution_count": null,
   "metadata": {},
   "outputs": [],
   "source": [
    "pp.qp(c2) # before carving holes"
   ]
  },
  {
   "cell_type": "code",
   "execution_count": null,
   "metadata": {},
   "outputs": [],
   "source": [
    "c3 = pp.import_gds(gdspathout)\n",
    "pp.qp([c, c3])\n",
    "pp.show(c3)"
   ]
  },
  {
   "cell_type": "code",
   "execution_count": null,
   "metadata": {},
   "outputs": [],
   "source": [
    "gridsize = 1\n",
    "\n",
    "c  = pp.c.ring(radius=5, width=0.5, layer=layer)\n",
    "gdspath = pp.write_gds(c, 'ring.gds')\n",
    "gdspathout = pathlib.Path(gdspath).with_suffix('.litho.gds')\n",
    "c2 = litho.smooth(gdspath, gdspathout, gridsize=gridsize)\n",
    "gdspathout = litho.carve_holes(gdspathout)"
   ]
  },
  {
   "cell_type": "code",
   "execution_count": null,
   "metadata": {},
   "outputs": [],
   "source": [
    "c3 = pp.import_gds(gdspathout)\n",
    "pp.qp([c, c3])\n",
    "pp.show(c3)"
   ]
  },
  {
   "cell_type": "code",
   "execution_count": null,
   "metadata": {},
   "outputs": [],
   "source": [
    "gridsize = 0.5\n",
    "\n",
    "c  = pp.c.ring(radius=5, width=0.5, layer=layer)\n",
    "gdspath = pp.write_gds(c, 'ring.gds')\n",
    "gdspathout = pathlib.Path(gdspath).with_suffix('.litho.gds')\n",
    "c2 = litho.smooth(gdspath, gdspathout, gridsize=gridsize)\n",
    "gdspathout = litho.carve_holes(gdspathout)"
   ]
  },
  {
   "cell_type": "code",
   "execution_count": null,
   "metadata": {},
   "outputs": [],
   "source": [
    "c3 = pp.import_gds(gdspathout)\n",
    "pp.qp([c, c3])\n",
    "pp.show(c3)"
   ]
  },
  {
   "cell_type": "code",
   "execution_count": null,
   "metadata": {},
   "outputs": [],
   "source": []
  }
 ],
 "metadata": {
  "kernelspec": {
   "display_name": "Python 3",
   "language": "python",
   "name": "python3"
  },
  "language_info": {
   "codemirror_mode": {
    "name": "ipython",
    "version": 3
   },
   "file_extension": ".py",
   "mimetype": "text/x-python",
   "name": "python",
   "nbconvert_exporter": "python",
   "pygments_lexer": "ipython3",
   "version": "3.7.6"
  }
 },
 "nbformat": 4,
 "nbformat_minor": 4
}
