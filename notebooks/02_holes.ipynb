{
 "cells": [
  {
   "cell_type": "markdown",
   "metadata": {},
   "source": [
    "# Litho tutorial\n",
    "\n",
    "Lets demonstrate some basic functionality of the litho by rounding a just a ring GDS with a center hole.\n",
    "\n",
    "Make sure your gridsize is in the order of the feature that you want to\n",
    "calculate.\n",
    "\n",
    "- If you choose a gridsize too small it will take long time\n",
    "- If your gridsize is too big for your features the litho simulated will not make any sense\n",
    "\n",
    "\n",
    "TODO: \n",
    "\n",
    "we need to figure out how to detect a hole polygon in order to keep it open"
   ]
  },
  {
   "cell_type": "code",
   "execution_count": null,
   "metadata": {
    "attributes": {
     "classes": [],
     "id": "",
     "n": "1"
    }
   },
   "outputs": [],
   "source": [
    "import pathlib\n",
    "import pp\n",
    "import litho"
   ]
  },
  {
   "cell_type": "code",
   "execution_count": null,
   "metadata": {
    "attributes": {
     "classes": [],
     "id": "",
     "n": "2"
    }
   },
   "outputs": [],
   "source": [
    "c  = pp.c.ring(radius=5, width=0.5, layer=1)\n",
    "gdspath = pp.write_gds(c, 'ring.gds')\n",
    "gdspathout = pathlib.Path(gdspath).with_suffix('.litho.gds')\n",
    "cr = litho.smooth(gdspath, gdspathout)"
   ]
  },
  {
   "cell_type": "code",
   "execution_count": null,
   "metadata": {},
   "outputs": [],
   "source": [
    "pp.qp(cr)"
   ]
  },
  {
   "cell_type": "code",
   "execution_count": null,
   "metadata": {},
   "outputs": [],
   "source": [
    "from skimage.measure import find_contours"
   ]
  },
  {
   "cell_type": "code",
   "execution_count": null,
   "metadata": {},
   "outputs": [],
   "source": [
    "find_contours?"
   ]
  }
 ],
 "metadata": {
  "kernelspec": {
   "display_name": "Python 3",
   "language": "python",
   "name": "python3"
  },
  "language_info": {
   "codemirror_mode": {
    "name": "ipython",
    "version": 3
   },
   "file_extension": ".py",
   "mimetype": "text/x-python",
   "name": "python",
   "nbconvert_exporter": "python",
   "pygments_lexer": "ipython3",
   "version": "3.7.7"
  }
 },
 "nbformat": 4,
 "nbformat_minor": 4
}
