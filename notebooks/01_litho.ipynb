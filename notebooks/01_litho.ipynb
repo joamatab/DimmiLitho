{
 "cells": [
  {
   "cell_type": "markdown",
   "metadata": {},
   "source": [
    "# Litho tutorial\n",
    "\n",
    "To convert from GDS to a np.ndarray make sure you have at least 10 times the pixels_per_um to resolve the smallest feature.\n",
    "\n",
    "## GDS to np.ndarray"
   ]
  },
  {
   "cell_type": "code",
   "execution_count": null,
   "metadata": {},
   "outputs": [],
   "source": [
    "import pp # Photonics package from gdsfactory\n",
    "import litho"
   ]
  },
  {
   "cell_type": "code",
   "execution_count": null,
   "metadata": {},
   "outputs": [],
   "source": [
    "layer = (1, 0)"
   ]
  },
  {
   "cell_type": "code",
   "execution_count": null,
   "metadata": {},
   "outputs": [],
   "source": [
    "side = 1\n",
    "c = pp.c.rectangle_centered(w=side, h=side, layer=layer)\n",
    "pp.qp(c)\n",
    "gdspath = pp.write_gds(c)"
   ]
  },
  {
   "cell_type": "code",
   "execution_count": null,
   "metadata": {},
   "outputs": [],
   "source": [
    "i = litho.gds_to_np(gdspath=gdspath, pixels_per_um=10, layer_in=layer[0])\n",
    "litho.plot(i)"
   ]
  },
  {
   "cell_type": "code",
   "execution_count": null,
   "metadata": {},
   "outputs": [],
   "source": [
    "c = pp.c.dbr()\n",
    "c.flatten()\n",
    "pp.qp(c)\n",
    "gdspath = pp.write_gds(c)"
   ]
  },
  {
   "cell_type": "code",
   "execution_count": null,
   "metadata": {},
   "outputs": [],
   "source": [
    "i = litho.gds_to_np(gdspath=gdspath, pixels_per_um=20, layer_in=layer[0])\n",
    "litho.plot(i)"
   ]
  },
  {
   "cell_type": "code",
   "execution_count": null,
   "metadata": {},
   "outputs": [],
   "source": [
    "c = pp.c.ring(layer=layer)\n",
    "c.flatten()\n",
    "pp.qp(c)\n",
    "gdspath = pp.write_gds(c)"
   ]
  },
  {
   "cell_type": "code",
   "execution_count": null,
   "metadata": {},
   "outputs": [],
   "source": [
    "i = litho.gds_to_np(gdspath=gdspath, pixels_per_um=20, layer_in=layer[0])\n",
    "litho.plot(i)"
   ]
  },
  {
   "cell_type": "markdown",
   "metadata": {},
   "source": [
    "# np.ndarray to GDS"
   ]
  },
  {
   "cell_type": "code",
   "execution_count": null,
   "metadata": {},
   "outputs": [],
   "source": [
    "gdspath = litho.np_to_gds(i, 'data/gds.gds')\n",
    "\n",
    "pp.show(gdspath)\n",
    "pp.plotgds(gdspath)"
   ]
  },
  {
   "cell_type": "markdown",
   "metadata": {},
   "source": [
    "# Smoothening functions\n",
    "\n",
    "- 2D convolution"
   ]
  },
  {
   "cell_type": "code",
   "execution_count": null,
   "metadata": {},
   "outputs": [],
   "source": [
    "\"\"\" overlay nominal and smooth designs \"\"\"\n",
    "import litho\n",
    "import numpy as np\n",
    "import pp\n",
    "\n",
    "gdspath1 = \"gds/gds1.gds\"\n",
    "gdspath2 = \"gds/gds2.gds\"\n",
    "\n",
    "layer = (1, 0)\n",
    "\n",
    "c = pp.c.verniers()\n",
    "c = pp.c.ring(layer=layer)\n",
    "c = pp.c.dbr(n=5)\n",
    "c.flatten()\n",
    "pp.write_gds(c, gdspath1)\n",
    "\n",
    "layer = 1\n",
    "threshold = 0.5\n",
    "pixels_per_um = 100\n",
    "pixels_kernel = int(np.ceil(pixels_per_um * 100e-3))  # 50nm = 50e-3\n",
    "\n",
    "ndarray = litho.to_np(gdspath1, layer=layer, pixels_per_um=pixels_per_um)\n",
    "ns = litho.smooth(ndarray=ndarray, pixels_kernel=pixels_kernel)\n",
    "\n",
    "# litho.plot(ns)\n",
    "litho.to_gds(ns, gdspath=gdspath2, threshold=threshold, pixels_per_um=pixels_per_um)\n",
    "c = litho.overlay(gdspath1, gdspath2)\n",
    "pp.show(c)\n",
    "pp.qp(c)"
   ]
  },
  {
   "cell_type": "code",
   "execution_count": null,
   "metadata": {},
   "outputs": [],
   "source": [
    "pixels_kernel = int(np.ceil(pixels_per_um * 200e-3))  # 50nm = 50e-3\n",
    "\n",
    "ndarray = litho.to_np(gdspath1, layer=layer, pixels_per_um=pixels_per_um)\n",
    "ns = litho.smooth(ndarray=ndarray, pixels_kernel=pixels_kernel)\n",
    "\n",
    "# litho.plot(ns)\n",
    "litho.to_gds(ns, gdspath=gdspath2, threshold=threshold, pixels_per_um=pixels_per_um)\n",
    "c = litho.overlay(gdspath1, gdspath2)\n",
    "pp.show(c)\n",
    "pp.qp(c)"
   ]
  },
  {
   "cell_type": "code",
   "execution_count": null,
   "metadata": {},
   "outputs": [],
   "source": []
  }
 ],
 "metadata": {
  "kernelspec": {
   "display_name": "Python 3",
   "language": "python",
   "name": "python3"
  },
  "language_info": {
   "codemirror_mode": {
    "name": "ipython",
    "version": 3
   },
   "file_extension": ".py",
   "mimetype": "text/x-python",
   "name": "python",
   "nbconvert_exporter": "python",
   "pygments_lexer": "ipython3",
   "version": "3.7.6"
  }
 },
 "nbformat": 4,
 "nbformat_minor": 4
}
