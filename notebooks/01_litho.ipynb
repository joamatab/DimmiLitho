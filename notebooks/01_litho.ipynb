{
 "cells": [
  {
   "cell_type": "markdown",
   "metadata": {},
   "source": [
    "# Litho tutorial\n",
    "\n",
    "Lets demonstrate some basic functionality of the litho by round a just a square GDS.\n",
    "\n",
    "Make sure your gridsize is in the order of the feature that you want to calculate.\n",
    "\n",
    "- If you choose a gridsize too small it will take long time\n",
    "- If your gridsize is too big for your features the litho simulated will not make any sense"
   ]
  },
  {
   "cell_type": "code",
   "execution_count": null,
   "metadata": {},
   "outputs": [],
   "source": [
    "import pp\n",
    "import litho"
   ]
  },
  {
   "cell_type": "code",
   "execution_count": null,
   "metadata": {},
   "outputs": [],
   "source": [
    "pp.c.rectangle_centered?"
   ]
  },
  {
   "cell_type": "code",
   "execution_count": null,
   "metadata": {},
   "outputs": [],
   "source": [
    "side = 1\n",
    "c = pp.c.rectangle_centered(w=side, h=side, layer=1)"
   ]
  },
  {
   "cell_type": "code",
   "execution_count": null,
   "metadata": {},
   "outputs": [],
   "source": [
    "pp.qp(c)"
   ]
  },
  {
   "cell_type": "code",
   "execution_count": null,
   "metadata": {},
   "outputs": [],
   "source": [
    "gdspath = pp.write_gds(c, 'r.gds')"
   ]
  },
  {
   "cell_type": "code",
   "execution_count": null,
   "metadata": {},
   "outputs": [],
   "source": [
    "cr = litho.smooth(gdspath, layer_in=1, gridsize=1)"
   ]
  },
  {
   "cell_type": "code",
   "execution_count": null,
   "metadata": {},
   "outputs": [],
   "source": [
    "pp.qp(cr)\n",
    "pp.show(cr)"
   ]
  },
  {
   "cell_type": "code",
   "execution_count": null,
   "metadata": {},
   "outputs": [],
   "source": [
    "cr.xsize/c.xsize"
   ]
  },
  {
   "cell_type": "code",
   "execution_count": null,
   "metadata": {},
   "outputs": [],
   "source": [
    "import numpy as np\n",
    "\n",
    "def get_ratio(side, gridsize=1):\n",
    "    c = pp.c.rectangle_centered(w=side, h=side, layer=1)\n",
    "    gdspath = pp.write_gds(c, 'r.gds')\n",
    "    cr = litho.smooth(gdspath, layer_in=1, gridsize=gridsize)\n",
    "    return cr.xsize/c.xsize\n",
    "\n",
    "\n",
    "sides = [1, 2, 3, 10]\n",
    "ratios = [ get_ratio(side) for side in sides]\n",
    "ratios"
   ]
  },
  {
   "cell_type": "code",
   "execution_count": null,
   "metadata": {},
   "outputs": [],
   "source": [
    "import numpy as np\n",
    "\n",
    "def get_ratio(side, gridsize=0.1):\n",
    "    c = pp.c.rectangle_centered(w=side, h=side, layer=1)\n",
    "    gdspath = pp.write_gds(c, 'r.gds')\n",
    "    cr = litho.smooth(gdspath, layer_in=1, gridsize=gridsize)\n",
    "    return cr.xsize/c.xsize\n",
    "\n",
    "\n",
    "sides = np.array([1, 2, 3, 10])*0.1\n",
    "ratios = [ get_ratio(side) for side in sides]\n",
    "ratios"
   ]
  },
  {
   "cell_type": "code",
   "execution_count": null,
   "metadata": {},
   "outputs": [],
   "source": [
    "gridsize = 0.1\n",
    "side = 0.1\n",
    "c = pp.c.rectangle_centered(w=side, h=side, layer=1)\n",
    "gdspath = pp.write_gds(c, 'r.gds')\n",
    "cr = litho.smooth(gdspath, layer_in=1, gridsize=gridsize)\n",
    "pp.show(cr)"
   ]
  },
  {
   "cell_type": "code",
   "execution_count": null,
   "metadata": {},
   "outputs": [],
   "source": [
    "import numpy as np\n",
    "\n",
    "def get_ratio(side, gridsize=10):\n",
    "    c = pp.c.rectangle_centered(w=side, h=side, layer=1)\n",
    "    gdspath = pp.write_gds(c, 'r.gds')\n",
    "    cr = litho.smooth(gdspath, layer_in=1, gridsize=gridsize)\n",
    "    return cr.xsize/c.xsize\n",
    "\n",
    "\n",
    "sides = np.array([1, 2, 3, 10])*10\n",
    "ratios = [ get_ratio(side) for side in sides]\n",
    "ratios"
   ]
  },
  {
   "cell_type": "code",
   "execution_count": null,
   "metadata": {},
   "outputs": [],
   "source": [
    "gridsize = 10\n",
    "side = 10\n",
    "c = pp.c.rectangle_centered(w=side, h=side, layer=1)\n",
    "gdspath = pp.write_gds(c, 'r.gds')\n",
    "cr = litho.smooth(gdspath, layer_in=1, gridsize=gridsize)\n",
    "pp.show(cr)"
   ]
  },
  {
   "cell_type": "code",
   "execution_count": null,
   "metadata": {},
   "outputs": [],
   "source": []
  }
 ],
 "metadata": {
  "kernelspec": {
   "display_name": "Python 3",
   "language": "python",
   "name": "python3"
  },
  "language_info": {
   "codemirror_mode": {
    "name": "ipython",
    "version": 3
   },
   "file_extension": ".py",
   "mimetype": "text/x-python",
   "name": "python",
   "nbconvert_exporter": "python",
   "pygments_lexer": "ipython3",
   "version": "3.7.7"
  }
 },
 "nbformat": 4,
 "nbformat_minor": 4
}
